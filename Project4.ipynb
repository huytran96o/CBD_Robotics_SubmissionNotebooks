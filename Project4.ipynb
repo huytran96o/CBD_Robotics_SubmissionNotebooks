{
 "cells": [
  {
   "cell_type": "code",
   "execution_count": 182,
   "metadata": {},
   "outputs": [],
   "source": [
    "import pandas as pd\n",
    "import seaborn as sns\n",
    "import matplotlib.pyplot as plt\n",
    "import numpy as np"
   ]
  },
  {
   "cell_type": "markdown",
   "metadata": {},
   "source": [
    "# Importing dataset"
   ]
  },
  {
   "cell_type": "code",
   "execution_count": 183,
   "metadata": {},
   "outputs": [],
   "source": [
    "df_main1 = pd.read_csv(\"airline1.csv\")\n",
    "df_main2 = pd.read_csv(\"airline2.csv\")\n",
    "df_main3 = pd.read_csv(\"airline3.csv\")\n",
    "df_main4 = pd.read_csv(\"airline4.csv\")\n",
    "df_main5 = pd.read_csv(\"airline5.csv\")\n",
    "df_main6 = pd.read_csv(\"airline6.csv\")"
   ]
  },
  {
   "cell_type": "code",
   "execution_count": 184,
   "metadata": {},
   "outputs": [
    {
     "data": {
      "text/plain": [
       "(2547574, 18)"
      ]
     },
     "execution_count": 184,
     "metadata": {},
     "output_type": "execute_result"
    }
   ],
   "source": [
    "# Merging the data of the 6 months\n",
    "df_main = df_main1.append([df_main2, df_main3, df_main4, df_main5, df_main6])\n",
    "df_main.shape"
   ]
  },
  {
   "cell_type": "markdown",
   "metadata": {},
   "source": [
    "# Processing data"
   ]
  },
  {
   "cell_type": "code",
   "execution_count": 185,
   "metadata": {},
   "outputs": [
    {
     "data": {
      "text/plain": [
       "MONTH                        0\n",
       "DAY_OF_MONTH                 0\n",
       "DAY_OF_WEEK                  0\n",
       "OP_UNIQUE_CARRIER            0\n",
       "OP_CARRIER                   0\n",
       "ORIGIN_AIRPORT_ID            0\n",
       "ORIGIN_CITY_NAME             0\n",
       "DEST_AIRPORT_ID              0\n",
       "DEP_DEL15               263990\n",
       "ARR_DELAY_NEW           268764\n",
       "ARR_DELAY_GROUP         268764\n",
       "CANCELLED                    0\n",
       "CARRIER_DELAY          2295172\n",
       "WEATHER_DELAY          2295172\n",
       "NAS_DELAY              2295172\n",
       "SECURITY_DELAY         2295172\n",
       "LATE_AIRCRAFT_DELAY    2295172\n",
       "Unnamed: 17            2547574\n",
       "dtype: int64"
      ]
     },
     "execution_count": 185,
     "metadata": {},
     "output_type": "execute_result"
    }
   ],
   "source": [
    "df_main.isna().sum()"
   ]
  },
  {
   "cell_type": "code",
   "execution_count": 186,
   "metadata": {},
   "outputs": [],
   "source": [
    "df_main = df_main.drop(columns=[\"Unnamed: 17\"])"
   ]
  },
  {
   "cell_type": "code",
   "execution_count": 187,
   "metadata": {},
   "outputs": [],
   "source": [
    "df_main = df_main.dropna()"
   ]
  },
  {
   "cell_type": "code",
   "execution_count": 188,
   "metadata": {},
   "outputs": [
    {
     "data": {
      "text/plain": [
       "MONTH                  0\n",
       "DAY_OF_MONTH           0\n",
       "DAY_OF_WEEK            0\n",
       "OP_UNIQUE_CARRIER      0\n",
       "OP_CARRIER             0\n",
       "ORIGIN_AIRPORT_ID      0\n",
       "ORIGIN_CITY_NAME       0\n",
       "DEST_AIRPORT_ID        0\n",
       "DEP_DEL15              0\n",
       "ARR_DELAY_NEW          0\n",
       "ARR_DELAY_GROUP        0\n",
       "CANCELLED              0\n",
       "CARRIER_DELAY          0\n",
       "WEATHER_DELAY          0\n",
       "NAS_DELAY              0\n",
       "SECURITY_DELAY         0\n",
       "LATE_AIRCRAFT_DELAY    0\n",
       "dtype: int64"
      ]
     },
     "execution_count": 188,
     "metadata": {},
     "output_type": "execute_result"
    }
   ],
   "source": [
    "df_main[df_main['CANCELLED'] == 1.0].count()"
   ]
  },
  {
   "cell_type": "code",
   "execution_count": 189,
   "metadata": {},
   "outputs": [
    {
     "data": {
      "text/html": [
       "<div>\n",
       "<style scoped>\n",
       "    .dataframe tbody tr th:only-of-type {\n",
       "        vertical-align: middle;\n",
       "    }\n",
       "\n",
       "    .dataframe tbody tr th {\n",
       "        vertical-align: top;\n",
       "    }\n",
       "\n",
       "    .dataframe thead th {\n",
       "        text-align: right;\n",
       "    }\n",
       "</style>\n",
       "<table border=\"1\" class=\"dataframe\">\n",
       "  <thead>\n",
       "    <tr style=\"text-align: right;\">\n",
       "      <th></th>\n",
       "      <th>MONTH</th>\n",
       "      <th>DAY_OF_MONTH</th>\n",
       "      <th>DAY_OF_WEEK</th>\n",
       "      <th>OP_UNIQUE_CARRIER</th>\n",
       "      <th>OP_CARRIER</th>\n",
       "      <th>ORIGIN_AIRPORT_ID</th>\n",
       "      <th>ORIGIN_CITY_NAME</th>\n",
       "      <th>DEST_AIRPORT_ID</th>\n",
       "      <th>DEP_DEL15</th>\n",
       "      <th>ARR_DELAY_NEW</th>\n",
       "      <th>ARR_DELAY_GROUP</th>\n",
       "      <th>CANCELLED</th>\n",
       "      <th>CARRIER_DELAY</th>\n",
       "      <th>WEATHER_DELAY</th>\n",
       "      <th>NAS_DELAY</th>\n",
       "      <th>SECURITY_DELAY</th>\n",
       "      <th>LATE_AIRCRAFT_DELAY</th>\n",
       "    </tr>\n",
       "  </thead>\n",
       "  <tbody>\n",
       "    <tr>\n",
       "      <th>0</th>\n",
       "      <td>1</td>\n",
       "      <td>1</td>\n",
       "      <td>3</td>\n",
       "      <td>WN</td>\n",
       "      <td>WN</td>\n",
       "      <td>13891</td>\n",
       "      <td>Ontario, CA</td>\n",
       "      <td>14771</td>\n",
       "      <td>1.0</td>\n",
       "      <td>68.0</td>\n",
       "      <td>4.0</td>\n",
       "      <td>0.0</td>\n",
       "      <td>8.0</td>\n",
       "      <td>0.0</td>\n",
       "      <td>27.0</td>\n",
       "      <td>0.0</td>\n",
       "      <td>33.0</td>\n",
       "    </tr>\n",
       "    <tr>\n",
       "      <th>7</th>\n",
       "      <td>1</td>\n",
       "      <td>1</td>\n",
       "      <td>3</td>\n",
       "      <td>WN</td>\n",
       "      <td>WN</td>\n",
       "      <td>13891</td>\n",
       "      <td>Ontario, CA</td>\n",
       "      <td>14893</td>\n",
       "      <td>1.0</td>\n",
       "      <td>47.0</td>\n",
       "      <td>3.0</td>\n",
       "      <td>0.0</td>\n",
       "      <td>0.0</td>\n",
       "      <td>0.0</td>\n",
       "      <td>0.0</td>\n",
       "      <td>7.0</td>\n",
       "      <td>40.0</td>\n",
       "    </tr>\n",
       "    <tr>\n",
       "      <th>14</th>\n",
       "      <td>1</td>\n",
       "      <td>1</td>\n",
       "      <td>3</td>\n",
       "      <td>WN</td>\n",
       "      <td>WN</td>\n",
       "      <td>13931</td>\n",
       "      <td>Norfolk, VA</td>\n",
       "      <td>10821</td>\n",
       "      <td>1.0</td>\n",
       "      <td>42.0</td>\n",
       "      <td>2.0</td>\n",
       "      <td>0.0</td>\n",
       "      <td>6.0</td>\n",
       "      <td>0.0</td>\n",
       "      <td>0.0</td>\n",
       "      <td>0.0</td>\n",
       "      <td>36.0</td>\n",
       "    </tr>\n",
       "    <tr>\n",
       "      <th>24</th>\n",
       "      <td>1</td>\n",
       "      <td>1</td>\n",
       "      <td>3</td>\n",
       "      <td>WN</td>\n",
       "      <td>WN</td>\n",
       "      <td>14027</td>\n",
       "      <td>West Palm Beach/Palm Beach, FL</td>\n",
       "      <td>12391</td>\n",
       "      <td>1.0</td>\n",
       "      <td>179.0</td>\n",
       "      <td>11.0</td>\n",
       "      <td>0.0</td>\n",
       "      <td>179.0</td>\n",
       "      <td>0.0</td>\n",
       "      <td>0.0</td>\n",
       "      <td>0.0</td>\n",
       "      <td>0.0</td>\n",
       "    </tr>\n",
       "    <tr>\n",
       "      <th>29</th>\n",
       "      <td>1</td>\n",
       "      <td>1</td>\n",
       "      <td>3</td>\n",
       "      <td>WN</td>\n",
       "      <td>WN</td>\n",
       "      <td>14057</td>\n",
       "      <td>Portland, OR</td>\n",
       "      <td>11292</td>\n",
       "      <td>1.0</td>\n",
       "      <td>28.0</td>\n",
       "      <td>1.0</td>\n",
       "      <td>0.0</td>\n",
       "      <td>28.0</td>\n",
       "      <td>0.0</td>\n",
       "      <td>0.0</td>\n",
       "      <td>0.0</td>\n",
       "      <td>0.0</td>\n",
       "    </tr>\n",
       "    <tr>\n",
       "      <th>...</th>\n",
       "      <td>...</td>\n",
       "      <td>...</td>\n",
       "      <td>...</td>\n",
       "      <td>...</td>\n",
       "      <td>...</td>\n",
       "      <td>...</td>\n",
       "      <td>...</td>\n",
       "      <td>...</td>\n",
       "      <td>...</td>\n",
       "      <td>...</td>\n",
       "      <td>...</td>\n",
       "      <td>...</td>\n",
       "      <td>...</td>\n",
       "      <td>...</td>\n",
       "      <td>...</td>\n",
       "      <td>...</td>\n",
       "      <td>...</td>\n",
       "    </tr>\n",
       "    <tr>\n",
       "      <th>223637</th>\n",
       "      <td>6</td>\n",
       "      <td>25</td>\n",
       "      <td>4</td>\n",
       "      <td>MQ</td>\n",
       "      <td>MQ</td>\n",
       "      <td>11298</td>\n",
       "      <td>Dallas/Fort Worth, TX</td>\n",
       "      <td>12992</td>\n",
       "      <td>1.0</td>\n",
       "      <td>62.0</td>\n",
       "      <td>4.0</td>\n",
       "      <td>0.0</td>\n",
       "      <td>30.0</td>\n",
       "      <td>0.0</td>\n",
       "      <td>1.0</td>\n",
       "      <td>0.0</td>\n",
       "      <td>31.0</td>\n",
       "    </tr>\n",
       "    <tr>\n",
       "      <th>223695</th>\n",
       "      <td>6</td>\n",
       "      <td>23</td>\n",
       "      <td>2</td>\n",
       "      <td>MQ</td>\n",
       "      <td>MQ</td>\n",
       "      <td>10792</td>\n",
       "      <td>Buffalo, NY</td>\n",
       "      <td>11298</td>\n",
       "      <td>1.0</td>\n",
       "      <td>121.0</td>\n",
       "      <td>8.0</td>\n",
       "      <td>0.0</td>\n",
       "      <td>92.0</td>\n",
       "      <td>0.0</td>\n",
       "      <td>29.0</td>\n",
       "      <td>0.0</td>\n",
       "      <td>0.0</td>\n",
       "    </tr>\n",
       "    <tr>\n",
       "      <th>223723</th>\n",
       "      <td>6</td>\n",
       "      <td>21</td>\n",
       "      <td>7</td>\n",
       "      <td>MQ</td>\n",
       "      <td>MQ</td>\n",
       "      <td>11049</td>\n",
       "      <td>College Station/Bryan, TX</td>\n",
       "      <td>11298</td>\n",
       "      <td>0.0</td>\n",
       "      <td>22.0</td>\n",
       "      <td>1.0</td>\n",
       "      <td>0.0</td>\n",
       "      <td>0.0</td>\n",
       "      <td>0.0</td>\n",
       "      <td>22.0</td>\n",
       "      <td>0.0</td>\n",
       "      <td>0.0</td>\n",
       "    </tr>\n",
       "    <tr>\n",
       "      <th>223725</th>\n",
       "      <td>6</td>\n",
       "      <td>23</td>\n",
       "      <td>2</td>\n",
       "      <td>MQ</td>\n",
       "      <td>MQ</td>\n",
       "      <td>11049</td>\n",
       "      <td>College Station/Bryan, TX</td>\n",
       "      <td>11298</td>\n",
       "      <td>1.0</td>\n",
       "      <td>37.0</td>\n",
       "      <td>2.0</td>\n",
       "      <td>0.0</td>\n",
       "      <td>0.0</td>\n",
       "      <td>26.0</td>\n",
       "      <td>11.0</td>\n",
       "      <td>0.0</td>\n",
       "      <td>0.0</td>\n",
       "    </tr>\n",
       "    <tr>\n",
       "      <th>223730</th>\n",
       "      <td>6</td>\n",
       "      <td>28</td>\n",
       "      <td>7</td>\n",
       "      <td>MQ</td>\n",
       "      <td>MQ</td>\n",
       "      <td>11049</td>\n",
       "      <td>College Station/Bryan, TX</td>\n",
       "      <td>11298</td>\n",
       "      <td>0.0</td>\n",
       "      <td>15.0</td>\n",
       "      <td>1.0</td>\n",
       "      <td>0.0</td>\n",
       "      <td>0.0</td>\n",
       "      <td>0.0</td>\n",
       "      <td>15.0</td>\n",
       "      <td>0.0</td>\n",
       "      <td>0.0</td>\n",
       "    </tr>\n",
       "  </tbody>\n",
       "</table>\n",
       "<p>252402 rows × 17 columns</p>\n",
       "</div>"
      ],
      "text/plain": [
       "        MONTH  DAY_OF_MONTH  DAY_OF_WEEK OP_UNIQUE_CARRIER OP_CARRIER  \\\n",
       "0           1             1            3                WN         WN   \n",
       "7           1             1            3                WN         WN   \n",
       "14          1             1            3                WN         WN   \n",
       "24          1             1            3                WN         WN   \n",
       "29          1             1            3                WN         WN   \n",
       "...       ...           ...          ...               ...        ...   \n",
       "223637      6            25            4                MQ         MQ   \n",
       "223695      6            23            2                MQ         MQ   \n",
       "223723      6            21            7                MQ         MQ   \n",
       "223725      6            23            2                MQ         MQ   \n",
       "223730      6            28            7                MQ         MQ   \n",
       "\n",
       "        ORIGIN_AIRPORT_ID                ORIGIN_CITY_NAME  DEST_AIRPORT_ID  \\\n",
       "0                   13891                     Ontario, CA            14771   \n",
       "7                   13891                     Ontario, CA            14893   \n",
       "14                  13931                     Norfolk, VA            10821   \n",
       "24                  14027  West Palm Beach/Palm Beach, FL            12391   \n",
       "29                  14057                    Portland, OR            11292   \n",
       "...                   ...                             ...              ...   \n",
       "223637              11298           Dallas/Fort Worth, TX            12992   \n",
       "223695              10792                     Buffalo, NY            11298   \n",
       "223723              11049       College Station/Bryan, TX            11298   \n",
       "223725              11049       College Station/Bryan, TX            11298   \n",
       "223730              11049       College Station/Bryan, TX            11298   \n",
       "\n",
       "        DEP_DEL15  ARR_DELAY_NEW  ARR_DELAY_GROUP  CANCELLED  CARRIER_DELAY  \\\n",
       "0             1.0           68.0              4.0        0.0            8.0   \n",
       "7             1.0           47.0              3.0        0.0            0.0   \n",
       "14            1.0           42.0              2.0        0.0            6.0   \n",
       "24            1.0          179.0             11.0        0.0          179.0   \n",
       "29            1.0           28.0              1.0        0.0           28.0   \n",
       "...           ...            ...              ...        ...            ...   \n",
       "223637        1.0           62.0              4.0        0.0           30.0   \n",
       "223695        1.0          121.0              8.0        0.0           92.0   \n",
       "223723        0.0           22.0              1.0        0.0            0.0   \n",
       "223725        1.0           37.0              2.0        0.0            0.0   \n",
       "223730        0.0           15.0              1.0        0.0            0.0   \n",
       "\n",
       "        WEATHER_DELAY  NAS_DELAY  SECURITY_DELAY  LATE_AIRCRAFT_DELAY  \n",
       "0                 0.0       27.0             0.0                 33.0  \n",
       "7                 0.0        0.0             7.0                 40.0  \n",
       "14                0.0        0.0             0.0                 36.0  \n",
       "24                0.0        0.0             0.0                  0.0  \n",
       "29                0.0        0.0             0.0                  0.0  \n",
       "...               ...        ...             ...                  ...  \n",
       "223637            0.0        1.0             0.0                 31.0  \n",
       "223695            0.0       29.0             0.0                  0.0  \n",
       "223723            0.0       22.0             0.0                  0.0  \n",
       "223725           26.0       11.0             0.0                  0.0  \n",
       "223730            0.0       15.0             0.0                  0.0  \n",
       "\n",
       "[252402 rows x 17 columns]"
      ]
     },
     "execution_count": 189,
     "metadata": {},
     "output_type": "execute_result"
    }
   ],
   "source": [
    "df_main"
   ]
  },
  {
   "cell_type": "code",
   "execution_count": 190,
   "metadata": {},
   "outputs": [],
   "source": [
    "df_model = df_main.drop(columns=['CANCELLED', 'ORIGIN_CITY_NAME', 'OP_CARRIER', 'WEATHER_DELAY', 'CARRIER_DELAY'])"
   ]
  },
  {
   "cell_type": "markdown",
   "metadata": {},
   "source": [
    "The 3 columns are no longer necessary and thus are dropped"
   ]
  },
  {
   "cell_type": "code",
   "execution_count": 191,
   "metadata": {},
   "outputs": [],
   "source": [
    "df_model['SECURITY_DELAY_BIN'] = [1.0 if x >= 15.0 else 0.0 for x in df_model['SECURITY_DELAY']]\n",
    "# df_model['WEATHER_DELAY_BIN'] = [1.0 if x >= 15.0 else 0.0 for x in df_model['WEATHER_DELAY']]\n",
    "df_model['NAS_DELAY_BIN'] = [1.0 if x >= 15.0 else 0.0 for x in df_model['NAS_DELAY']]\n",
    "# df_model['CARRIER_DELAY_BIN'] = [1.0 if x >= 15.0 else 0.0 for x in df_model['CARRIER_DELAY']]\n",
    "df_model['LATE_AIRCRAFT_DELAY_BIN'] = [1.0 if x >= 15.0 else 0.0 for x in df_model['LATE_AIRCRAFT_DELAY']]\n",
    "df_model['ARR_DELAY_GROUP_BIN'] = [1.0 if x >= 2.0 else 0.0 for x in df_model['ARR_DELAY_GROUP']]\n",
    "df_model = df_model.drop(columns=['SECURITY_DELAY', 'NAS_DELAY', 'LATE_AIRCRAFT_DELAY', 'ARR_DELAY_GROUP', 'ARR_DELAY_NEW'])"
   ]
  },
  {
   "cell_type": "markdown",
   "metadata": {},
   "source": [
    "Classifying numeric data into groups\n",
    "\n",
    "Assumptions made : for types of delay, they are considered significant if they are more than 15 minutes\n",
    "\n",
    "\n",
    "Delay groups are only taken from value 2 and above (30 minutes or more) and values below 2 are treated as \"not late\" (0)"
   ]
  },
  {
   "cell_type": "code",
   "execution_count": 192,
   "metadata": {},
   "outputs": [
    {
     "data": {
      "text/plain": [
       "MONTH                        6\n",
       "DAY_OF_MONTH                31\n",
       "DAY_OF_WEEK                  7\n",
       "OP_UNIQUE_CARRIER           17\n",
       "ORIGIN_AIRPORT_ID          360\n",
       "DEST_AIRPORT_ID            361\n",
       "DEP_DEL15                    2\n",
       "SECURITY_DELAY_BIN           2\n",
       "NAS_DELAY_BIN                2\n",
       "LATE_AIRCRAFT_DELAY_BIN      2\n",
       "ARR_DELAY_GROUP_BIN          2\n",
       "dtype: int64"
      ]
     },
     "execution_count": 192,
     "metadata": {},
     "output_type": "execute_result"
    }
   ],
   "source": [
    "df_model.nunique()"
   ]
  },
  {
   "cell_type": "code",
   "execution_count": 193,
   "metadata": {},
   "outputs": [
    {
     "data": {
      "text/plain": [
       "152705"
      ]
     },
     "execution_count": 193,
     "metadata": {},
     "output_type": "execute_result"
    }
   ],
   "source": [
    "df_model['ARR_DELAY_GROUP_BIN'][df_model['ARR_DELAY_GROUP_BIN'] == 1.0].shape[0]"
   ]
  },
  {
   "cell_type": "code",
   "execution_count": 194,
   "metadata": {},
   "outputs": [
    {
     "data": {
      "text/plain": [
       "(-1.1128296468555718,\n",
       " 1.1006109764585643,\n",
       " -1.1193206525447241,\n",
       " 1.114018261696804)"
      ]
     },
     "execution_count": 194,
     "metadata": {},
     "output_type": "execute_result"
    },
    {
     "data": {
      "image/png": "[encoded data removed]",
      "text/plain": [
       "<Figure size 432x288 with 1 Axes>"
      ]
     },
     "metadata": {},
     "output_type": "display_data"
    }
   ],
   "source": [
    "import matplotlib.pyplot as plt\n",
    "sizes = [df_model['ARR_DELAY_GROUP_BIN'][df_model['ARR_DELAY_GROUP_BIN'] == 1.0].shape[0], df_model['ARR_DELAY_GROUP_BIN'][df_model['ARR_DELAY_GROUP_BIN'] == 0.0].shape[0]]\n",
    "labels = 'Late', 'Not late'\n",
    "plt.pie(sizes, labels=labels)\n",
    "plt.title('Proportions of late versus not late')\n",
    "plt.axis('equal')"
   ]
  },
  {
   "cell_type": "markdown",
   "metadata": {},
   "source": [
    "The dataset in after filtering is not very biased"
   ]
  },
  {
   "cell_type": "code",
   "execution_count": 195,
   "metadata": {},
   "outputs": [
    {
     "data": {
      "text/plain": [
       "<matplotlib.axes._subplots.AxesSubplot at 0x2aa127f93c8>"
      ]
     },
     "execution_count": 195,
     "metadata": {},
     "output_type": "execute_result"
    },
    {
     "data": {
      "image/png": "[encoded data removed]",
      "text/plain": [
       "<Figure size 432x288 with 1 Axes>"
      ]
     },
     "metadata": {
      "needs_background": "light"
     },
     "output_type": "display_data"
    }
   ],
   "source": [
    "import seaborn as sns\n",
    "by_month = df_model['MONTH'][df_model['ARR_DELAY_GROUP_BIN'] == 1.0]\n",
    "sns.countplot(by_month)"
   ]
  },
  {
   "cell_type": "markdown",
   "metadata": {},
   "source": [
    "Most of the delayed flights occurred in January, February and March"
   ]
  },
  {
   "cell_type": "markdown",
   "metadata": {},
   "source": [
    "# Encoding dataset and splitting"
   ]
  },
  {
   "cell_type": "code",
   "execution_count": 196,
   "metadata": {},
   "outputs": [],
   "source": [
    "from sklearn import tree, preprocessing, metrics, model_selection, linear_model\n",
    "df_model_features = pd.get_dummies(df_model.drop(columns=['ARR_DELAY_GROUP_BIN']))\n",
    "df_model_target = df_model['ARR_DELAY_GROUP_BIN']\n",
    "\n",
    "trainX, testX, trainY, testY = model_selection.train_test_split(np.array(df_model_features), np.array(df_model_target), test_size=0.2)"
   ]
  },
  {
   "cell_type": "code",
   "execution_count": 197,
   "metadata": {},
   "outputs": [],
   "source": [
    "enc = preprocessing.OneHotEncoder(handle_unknown='ignore')\n",
    "enc.fit(df_model_features)\n",
    "trainX_enc = enc.transform(trainX)\n",
    "testX_enc = enc.transform(testX)\n",
    "le = preprocessing.LabelEncoder()\n",
    "le.fit(df_model_target)\n",
    "trainY_enc = le.transform(trainY)\n",
    "testY_enc = le.transform(testY)"
   ]
  },
  {
   "cell_type": "markdown",
   "metadata": {},
   "source": [
    "Encoding features with one-hot encoder for SVM use"
   ]
  },
  {
   "cell_type": "markdown",
   "metadata": {},
   "source": [
    "# Decision Tree"
   ]
  },
  {
   "cell_type": "code",
   "execution_count": 198,
   "metadata": {},
   "outputs": [
    {
     "name": "stdout",
     "output_type": "stream",
     "text": [
      "Decision Tree without depth limit: \n",
      "              precision    recall  f1-score   support\n",
      "\n",
      "         0.0       0.54      0.59      0.56     19995\n",
      "         1.0       0.71      0.67      0.69     30486\n",
      "\n",
      "    accuracy                           0.64     50481\n",
      "   macro avg       0.63      0.63      0.63     50481\n",
      "weighted avg       0.65      0.64      0.64     50481\n",
      "\n",
      "Depth of tree: 58\n"
     ]
    }
   ],
   "source": [
    "from sklearn.tree import DecisionTreeClassifier\n",
    "decisionTree = DecisionTreeClassifier(random_state=0, criterion='entropy', min_samples_split=3)\n",
    "decisionTree.fit(trainX, trainY)\n",
    "predY = decisionTree.predict(testX)\n",
    "print(\"Decision Tree without depth limit: \")\n",
    "print(metrics.classification_report(testY, predY))\n",
    "print(\"Depth of tree: {}\".format(decisionTree.get_depth()))"
   ]
  },
  {
   "cell_type": "code",
   "execution_count": 199,
   "metadata": {},
   "outputs": [
    {
     "name": "stdout",
     "output_type": "stream",
     "text": [
      "Decision Tree with depth limit: \n",
      "              precision    recall  f1-score   support\n",
      "\n",
      "         0.0       0.65      0.52      0.58     19995\n",
      "         1.0       0.72      0.81      0.77     30486\n",
      "\n",
      "    accuracy                           0.70     50481\n",
      "   macro avg       0.69      0.67      0.67     50481\n",
      "weighted avg       0.69      0.70      0.69     50481\n",
      "\n"
     ]
    }
   ],
   "source": [
    "decisionTree = DecisionTreeClassifier(random_state=0, max_depth=20, criterion='entropy', min_samples_split=3)\n",
    "decisionTree.fit(trainX, trainY)\n",
    "predY = decisionTree.predict(testX)\n",
    "print(\"Decision Tree with depth limit: \")\n",
    "print(metrics.classification_report(testY, predY))"
   ]
  },
  {
   "cell_type": "markdown",
   "metadata": {},
   "source": [
    "Limiting the maximum depth of the decision tree to 20 did not significantly decrease the classifcation scores"
   ]
  },
  {
   "cell_type": "markdown",
   "metadata": {},
   "source": [
    "# Random Forest Classifier"
   ]
  },
  {
   "cell_type": "code",
   "execution_count": 200,
   "metadata": {},
   "outputs": [
    {
     "name": "stdout",
     "output_type": "stream",
     "text": [
      "Random Forest: \n",
      "              precision    recall  f1-score   support\n",
      "\n",
      "         0.0       0.62      0.55      0.59     19995\n",
      "         1.0       0.73      0.78      0.75     30486\n",
      "\n",
      "    accuracy                           0.69     50481\n",
      "   macro avg       0.68      0.67      0.67     50481\n",
      "weighted avg       0.69      0.69      0.69     50481\n",
      "\n"
     ]
    }
   ],
   "source": [
    "from sklearn.ensemble import RandomForestClassifier\n",
    "randomForest = RandomForestClassifier(random_state=0, criterion='entropy')\n",
    "randomForest.fit(trainX, trainY)\n",
    "predY = randomForest.predict(testX)\n",
    "print(\"Random Forest: \")\n",
    "print(metrics.classification_report(testY, predY))"
   ]
  },
  {
   "cell_type": "markdown",
   "metadata": {},
   "source": [
    "# Logistic Regression"
   ]
  },
  {
   "cell_type": "code",
   "execution_count": 201,
   "metadata": {},
   "outputs": [
    {
     "name": "stdout",
     "output_type": "stream",
     "text": [
      "Logistic Regression: \n",
      "              precision    recall  f1-score   support\n",
      "\n",
      "         0.0       0.00      0.00      0.00     19995\n",
      "         1.0       0.60      1.00      0.75     30486\n",
      "\n",
      "    accuracy                           0.60     50481\n",
      "   macro avg       0.30      0.50      0.38     50481\n",
      "weighted avg       0.36      0.60      0.45     50481\n",
      "\n"
     ]
    },
    {
     "name": "stderr",
     "output_type": "stream",
     "text": [
      "C:\\Users\\ASUS\\anaconda3\\lib\\site-packages\\sklearn\\metrics\\_classification.py:1272: UndefinedMetricWarning: Precision and F-score are ill-defined and being set to 0.0 in labels with no predicted samples. Use `zero_division` parameter to control this behavior.\n",
      "  _warn_prf(average, modifier, msg_start, len(result))\n"
     ]
    }
   ],
   "source": [
    "from sklearn.linear_model import LogisticRegression\n",
    "logReg = LogisticRegression(random_state=0)\n",
    "logReg.fit(trainX, trainY)\n",
    "predY = logReg.predict(testX)\n",
    "print(\"Logistic Regression: \")\n",
    "print(metrics.classification_report(testY, predY))"
   ]
  },
  {
   "cell_type": "markdown",
   "metadata": {},
   "source": [
    "https://scikit-learn.org/stable/auto_examples/model_selection/plot_precision_recall.html\n",
    "\n",
    "It seems that the model is confused by features and all the predictions made are 1.0, thus leading to 0 in precision, recall and f1-score for target 0."
   ]
  },
  {
   "cell_type": "markdown",
   "metadata": {},
   "source": [
    "# Gradient Boosting"
   ]
  },
  {
   "cell_type": "code",
   "execution_count": 202,
   "metadata": {},
   "outputs": [
    {
     "name": "stdout",
     "output_type": "stream",
     "text": [
      "Gradient Boosting: \n",
      "              precision    recall  f1-score   support\n",
      "\n",
      "         0.0       0.72      0.51      0.60     19995\n",
      "         1.0       0.73      0.87      0.79     30486\n",
      "\n",
      "    accuracy                           0.73     50481\n",
      "   macro avg       0.73      0.69      0.70     50481\n",
      "weighted avg       0.73      0.73      0.72     50481\n",
      "\n"
     ]
    }
   ],
   "source": [
    "from sklearn.ensemble import GradientBoostingClassifier\n",
    "gbc = GradientBoostingClassifier(random_state=0)\n",
    "gbc.fit(trainX, trainY)\n",
    "predY = gbc.predict(testX)\n",
    "print(\"Gradient Boosting: \")\n",
    "print(metrics.classification_report(testY, predY))"
   ]
  },
  {
   "cell_type": "markdown",
   "metadata": {},
   "source": [
    "# Gaussian Naive Bayes"
   ]
  },
  {
   "cell_type": "code",
   "execution_count": 203,
   "metadata": {},
   "outputs": [
    {
     "name": "stdout",
     "output_type": "stream",
     "text": [
      "Gaussian Naive Bayes: \n",
      "              precision    recall  f1-score   support\n",
      "\n",
      "         0.0       0.64      0.57      0.60     19995\n",
      "         1.0       0.74      0.79      0.76     30486\n",
      "\n",
      "    accuracy                           0.70     50481\n",
      "   macro avg       0.69      0.68      0.68     50481\n",
      "weighted avg       0.70      0.70      0.70     50481\n",
      "\n"
     ]
    }
   ],
   "source": [
    "from sklearn.naive_bayes import GaussianNB\n",
    "naive = GaussianNB()\n",
    "naive.fit(trainX, trainY)\n",
    "predY = naive.predict(testX)\n",
    "print(\"Gaussian Naive Bayes: \")\n",
    "print(metrics.classification_report(testY, predY))"
   ]
  },
  {
   "cell_type": "markdown",
   "metadata": {},
   "source": [
    "# SVM"
   ]
  },
  {
   "cell_type": "code",
   "execution_count": 204,
   "metadata": {},
   "outputs": [],
   "source": [
    "# from sklearn import svm\n",
    "# svc = svm.SVC(random_state=0)\n",
    "# svc.fit(trainX_enc, trainY_enc)\n",
    "# predY = svc.predict(testX_enc)\n",
    "# print(\"SVM: \")\n",
    "# print(metrics.classification_report(testY, predY))"
   ]
  },
  {
   "cell_type": "markdown",
   "metadata": {},
   "source": [
    "Applying PCA"
   ]
  },
  {
   "cell_type": "code",
   "execution_count": 205,
   "metadata": {},
   "outputs": [
    {
     "data": {
      "text/plain": [
       "Text(0, 0.5, 'cumulative explained variance')"
      ]
     },
     "execution_count": 205,
     "metadata": {},
     "output_type": "execute_result"
    },
    {
     "data": {
      "image/png": "[encoded data removed]",
      "text/plain": [
       "<Figure size 432x288 with 1 Axes>"
      ]
     },
     "metadata": {
      "needs_background": "light"
     },
     "output_type": "display_data"
    }
   ],
   "source": [
    "# Scale the data\n",
    "from sklearn.decomposition import PCA\n",
    "from sklearn.preprocessing import MinMaxScaler\n",
    "scaler = MinMaxScaler()\n",
    "data_rescaled = scaler.fit_transform(df_model_features)\n",
    "\n",
    "pca = PCA().fit(data_rescaled)\n",
    "plt.plot(np.cumsum(pca.explained_variance_ratio_))\n",
    "plt.axhline(y=0.95, color='r', linestyle='-')\n",
    "plt.text(0.5, 0.85, '95% cut-off threshold', color = 'red', fontsize=16)\n",
    "plt.xlabel('number of components')\n",
    "plt.ylabel('cumulative explained variance')"
   ]
  },
  {
   "cell_type": "code",
   "execution_count": 206,
   "metadata": {},
   "outputs": [],
   "source": [
    "# Transform the data with PCA\n",
    "pca = PCA(n_components=20)\n",
    "features_pca = pca.fit_transform(df_model_features)"
   ]
  },
  {
   "cell_type": "markdown",
   "metadata": {},
   "source": [
    "Applying SelectKBest"
   ]
  },
  {
   "cell_type": "code",
   "execution_count": 207,
   "metadata": {},
   "outputs": [],
   "source": [
    "from sklearn.feature_selection import SelectKBest, chi2\n",
    "features_kbest = SelectKBest(chi2, k=20).fit_transform(df_model_features, df_model_target)"
   ]
  },
  {
   "cell_type": "markdown",
   "metadata": {},
   "source": [
    "Applying RFE"
   ]
  },
  {
   "cell_type": "code",
   "execution_count": 208,
   "metadata": {},
   "outputs": [],
   "source": [
    "# from sklearn.feature_selection import RFE\n",
    "# from sklearn.svm import SVR\n",
    "# estimator = SVR(kernel=\"linear\")\n",
    "# selector = RFE(estimator, n_features_to_select=5, step=1)\n",
    "# selector = selector.fit(df_model_features, df_model_target)\n",
    "# selector.support_\n",
    "# selector.ranking_"
   ]
  },
  {
   "cell_type": "markdown",
   "metadata": {},
   "source": [
    "Applying GridSearchCV"
   ]
  },
  {
   "cell_type": "code",
   "execution_count": 209,
   "metadata": {},
   "outputs": [],
   "source": [
    "# from sklearn import svm\n",
    "# from sklearn.model_selection import GridSearchCV\n",
    "# svc = svm.SVC()\n",
    "# parameters = {'kernel':('linear', 'rbf'), 'C':[1, 10]}\n",
    "# clf = GridSearchCV(svc, parameters)\n",
    "# clf.fit(df_model_features, df_model_target)\n",
    "# sorted(clf.cv_results_.keys())"
   ]
  },
  {
   "cell_type": "markdown",
   "metadata": {},
   "source": [
    "Decision Tree with PCA, no depth limit"
   ]
  },
  {
   "cell_type": "code",
   "execution_count": 210,
   "metadata": {},
   "outputs": [
    {
     "name": "stdout",
     "output_type": "stream",
     "text": [
      "Decision Tree with PCA: \n",
      "              precision    recall  f1-score   support\n",
      "\n",
      "         0.0       0.55      0.57      0.56     19971\n",
      "         1.0       0.71      0.69      0.70     30510\n",
      "\n",
      "    accuracy                           0.64     50481\n",
      "   macro avg       0.63      0.63      0.63     50481\n",
      "weighted avg       0.64      0.64      0.64     50481\n",
      "\n",
      "Depth of tree: 132\n"
     ]
    }
   ],
   "source": [
    "trainX_pca, testX_pca, trainY_pca, testY_pca = model_selection.train_test_split(np.array(features_pca), np.array(df_model_target), test_size=0.2)\n",
    "\n",
    "decisionTree = DecisionTreeClassifier(random_state=0, criterion='entropy')\n",
    "decisionTree.fit(trainX_pca, trainY_pca)\n",
    "predY_pca = decisionTree.predict(testX_pca)\n",
    "print(\"Decision Tree with PCA: \")\n",
    "print(metrics.classification_report(testY_pca, predY_pca))\n",
    "print(\"Depth of tree: {}\".format(decisionTree.get_depth()))"
   ]
  },
  {
   "cell_type": "markdown",
   "metadata": {},
   "source": [
    "There is a decrease in accuracy after applying PCA"
   ]
  },
  {
   "cell_type": "markdown",
   "metadata": {},
   "source": [
    "Applying PCA with max depth limit"
   ]
  },
  {
   "cell_type": "code",
   "execution_count": 211,
   "metadata": {},
   "outputs": [
    {
     "name": "stdout",
     "output_type": "stream",
     "text": [
      "Decision Tree with PCA: \n",
      "              precision    recall  f1-score   support\n",
      "\n",
      "         0.0       0.68      0.50      0.57     19907\n",
      "         1.0       0.72      0.85      0.78     30574\n",
      "\n",
      "    accuracy                           0.71     50481\n",
      "   macro avg       0.70      0.67      0.68     50481\n",
      "weighted avg       0.70      0.71      0.70     50481\n",
      "\n"
     ]
    }
   ],
   "source": [
    "trainX_pca, testX_pca, trainY_pca, testY_pca = model_selection.train_test_split(np.array(features_pca), np.array(df_model_target), test_size=0.2)\n",
    "\n",
    "decisionTree = DecisionTreeClassifier(random_state=0, max_depth=20, criterion='entropy')\n",
    "decisionTree.fit(trainX_pca, trainY_pca)\n",
    "predY_pca = decisionTree.predict(testX_pca)\n",
    "print(\"Decision Tree with PCA: \")\n",
    "print(metrics.classification_report(testY_pca, predY_pca))"
   ]
  },
  {
   "cell_type": "code",
   "execution_count": 212,
   "metadata": {},
   "outputs": [
    {
     "name": "stdout",
     "output_type": "stream",
     "text": [
      "Decision Tree with KBest: \n",
      "              precision    recall  f1-score   support\n",
      "\n",
      "         0.0       0.64      0.52      0.58     19804\n",
      "         1.0       0.72      0.81      0.77     30677\n",
      "\n",
      "    accuracy                           0.70     50481\n",
      "   macro avg       0.68      0.67      0.67     50481\n",
      "weighted avg       0.69      0.70      0.69     50481\n",
      "\n"
     ]
    }
   ],
   "source": [
    "trainX_kbest, testX_kbest, trainY_kbest, testY_kbest = model_selection.train_test_split(np.array(features_kbest), np.array(df_model_target), test_size=0.2)\n",
    "decisionTree = DecisionTreeClassifier(random_state=0, max_depth=20, criterion='entropy')\n",
    "decisionTree.fit(trainX_kbest, trainY_kbest)\n",
    "predY_kbest = decisionTree.predict(testX_kbest)\n",
    "print(\"Decision Tree with KBest: \")\n",
    "print(metrics.classification_report(testY_kbest, predY_kbest))"
   ]
  },
  {
   "cell_type": "code",
   "execution_count": null,
   "metadata": {},
   "outputs": [],
   "source": []
  }
 ],
 "metadata": {
  "kernelspec": {
   "display_name": "Python 3",
   "language": "python",
   "name": "python3"
  },
  "language_info": {
   "codemirror_mode": {
    "name": "ipython",
    "version": 3
   },
   "file_extension": ".py",
   "mimetype": "text/x-python",
   "name": "python",
   "nbconvert_exporter": "python",
   "pygments_lexer": "ipython3",
   "version": "3.7.6"
  }
 },
 "nbformat": 4,
 "nbformat_minor": 4
}
