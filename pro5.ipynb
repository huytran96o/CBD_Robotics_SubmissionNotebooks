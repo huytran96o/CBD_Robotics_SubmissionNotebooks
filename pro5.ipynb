{
 "cells": [
  {
   "cell_type": "code",
   "execution_count": 193,
   "metadata": {},
   "outputs": [],
   "source": [
    "import matplotlib.pyplot as plt\n",
    "import matplotlib\n",
    "import numpy as np\n",
    "import pandas as pd\n",
    "import seaborn as sns\n",
    "import pickle"
   ]
  },
  {
   "cell_type": "markdown",
   "metadata": {},
   "source": [
    "# Data Analysis\n",
    "\n",
    "First, we import the libraries and the data"
   ]
  },
  {
   "cell_type": "code",
   "execution_count": 194,
   "metadata": {},
   "outputs": [],
   "source": [
    "df = pd.read_csv(\"2014/results.csv\")"
   ]
  },
  {
   "cell_type": "code",
   "execution_count": 195,
   "metadata": {},
   "outputs": [
    {
     "name": "stdout",
     "output_type": "stream",
     "text": [
      "<class 'pandas.core.frame.DataFrame'>\n",
      "RangeIndex: 31984 entries, 0 to 31983\n",
      "Data columns (total 21 columns):\n",
      " #   Column     Non-Null Count  Dtype  \n",
      "---  ------     --------------  -----  \n",
      " 0   10k        31984 non-null  object \n",
      " 1   name       31984 non-null  object \n",
      " 2   division   31984 non-null  int64  \n",
      " 3   25k        31984 non-null  object \n",
      " 4   gender     31984 non-null  object \n",
      " 5   age        31984 non-null  int64  \n",
      " 6   official   31984 non-null  float64\n",
      " 7   bib        31984 non-null  object \n",
      " 8   genderdiv  31984 non-null  int64  \n",
      " 9   ctz        1244 non-null   object \n",
      " 10  35k        31984 non-null  object \n",
      " 11  overall    31984 non-null  int64  \n",
      " 12  pace       31984 non-null  float64\n",
      " 13  state      29408 non-null  object \n",
      " 14  30k        31984 non-null  object \n",
      " 15  5k         31984 non-null  object \n",
      " 16  half       31984 non-null  object \n",
      " 17  20k        31984 non-null  object \n",
      " 18  country    31984 non-null  object \n",
      " 19  city       31983 non-null  object \n",
      " 20  40k        31984 non-null  object \n",
      "dtypes: float64(2), int64(4), object(15)\n",
      "memory usage: 5.1+ MB\n"
     ]
    }
   ],
   "source": [
    "df.info()"
   ]
  },
  {
   "cell_type": "code",
   "execution_count": 196,
   "metadata": {},
   "outputs": [],
   "source": [
    "df = df.reindex(sorted(df.columns), axis=1)"
   ]
  },
  {
   "cell_type": "code",
   "execution_count": 197,
   "metadata": {},
   "outputs": [],
   "source": [
    "df=df.drop(columns=[\"ctz\"])"
   ]
  },
  {
   "cell_type": "markdown",
   "metadata": {},
   "source": [
    "Column ctz has too many null values, it is better to drop it."
   ]
  },
  {
   "cell_type": "code",
   "execution_count": 198,
   "metadata": {},
   "outputs": [
    {
     "name": "stdout",
     "output_type": "stream",
     "text": [
      "<class 'pandas.core.frame.DataFrame'>\n",
      "RangeIndex: 31984 entries, 0 to 31983\n",
      "Data columns (total 20 columns):\n",
      " #   Column     Non-Null Count  Dtype  \n",
      "---  ------     --------------  -----  \n",
      " 0   10k        31984 non-null  object \n",
      " 1   20k        31984 non-null  object \n",
      " 2   25k        31984 non-null  object \n",
      " 3   30k        31984 non-null  object \n",
      " 4   35k        31984 non-null  object \n",
      " 5   40k        31984 non-null  object \n",
      " 6   5k         31984 non-null  object \n",
      " 7   age        31984 non-null  int64  \n",
      " 8   bib        31984 non-null  object \n",
      " 9   city       31983 non-null  object \n",
      " 10  country    31984 non-null  object \n",
      " 11  division   31984 non-null  int64  \n",
      " 12  gender     31984 non-null  object \n",
      " 13  genderdiv  31984 non-null  int64  \n",
      " 14  half       31984 non-null  object \n",
      " 15  name       31984 non-null  object \n",
      " 16  official   31984 non-null  float64\n",
      " 17  overall    31984 non-null  int64  \n",
      " 18  pace       31984 non-null  float64\n",
      " 19  state      29408 non-null  object \n",
      "dtypes: float64(2), int64(4), object(14)\n",
      "memory usage: 4.9+ MB\n"
     ]
    }
   ],
   "source": [
    "df.info()"
   ]
  },
  {
   "cell_type": "code",
   "execution_count": 199,
   "metadata": {},
   "outputs": [],
   "source": [
    "df = df.dropna()"
   ]
  },
  {
   "cell_type": "markdown",
   "metadata": {},
   "source": [
    "There are not many entries with null state, therefore it is safe to drop them."
   ]
  },
  {
   "cell_type": "code",
   "execution_count": 200,
   "metadata": {},
   "outputs": [
    {
     "name": "stdout",
     "output_type": "stream",
     "text": [
      "<class 'pandas.core.frame.DataFrame'>\n",
      "Int64Index: 29408 entries, 9 to 31983\n",
      "Data columns (total 20 columns):\n",
      " #   Column     Non-Null Count  Dtype  \n",
      "---  ------     --------------  -----  \n",
      " 0   10k        29408 non-null  object \n",
      " 1   20k        29408 non-null  object \n",
      " 2   25k        29408 non-null  object \n",
      " 3   30k        29408 non-null  object \n",
      " 4   35k        29408 non-null  object \n",
      " 5   40k        29408 non-null  object \n",
      " 6   5k         29408 non-null  object \n",
      " 7   age        29408 non-null  int64  \n",
      " 8   bib        29408 non-null  object \n",
      " 9   city       29408 non-null  object \n",
      " 10  country    29408 non-null  object \n",
      " 11  division   29408 non-null  int64  \n",
      " 12  gender     29408 non-null  object \n",
      " 13  genderdiv  29408 non-null  int64  \n",
      " 14  half       29408 non-null  object \n",
      " 15  name       29408 non-null  object \n",
      " 16  official   29408 non-null  float64\n",
      " 17  overall    29408 non-null  int64  \n",
      " 18  pace       29408 non-null  float64\n",
      " 19  state      29408 non-null  object \n",
      "dtypes: float64(2), int64(4), object(14)\n",
      "memory usage: 4.7+ MB\n"
     ]
    }
   ],
   "source": [
    "df.info()"
   ]
  },
  {
   "cell_type": "code",
   "execution_count": 201,
   "metadata": {},
   "outputs": [
    {
     "name": "stderr",
     "output_type": "stream",
     "text": [
      "C:\\Users\\ASUS\\anaconda3\\lib\\site-packages\\pandas\\core\\ops\\array_ops.py:253: FutureWarning: elementwise comparison failed; returning scalar instead, but in the future will perform elementwise comparison\n",
      "  res_values = method(rvalues)\n"
     ]
    },
    {
     "data": {
      "text/plain": [
       "10k           46\n",
       "20k           49\n",
       "25k          198\n",
       "30k           36\n",
       "35k           30\n",
       "40k           38\n",
       "5k            48\n",
       "age            0\n",
       "bib            0\n",
       "city           0\n",
       "country        0\n",
       "division       0\n",
       "gender         0\n",
       "genderdiv      0\n",
       "half          66\n",
       "name           0\n",
       "official       0\n",
       "overall        0\n",
       "pace           0\n",
       "state          0\n",
       "dtype: int64"
      ]
     },
     "execution_count": 201,
     "metadata": {},
     "output_type": "execute_result"
    }
   ],
   "source": [
    "df[df == '-'].count()"
   ]
  },
  {
   "cell_type": "code",
   "execution_count": 202,
   "metadata": {},
   "outputs": [],
   "source": [
    "df = df[df.state != \"\"]"
   ]
  },
  {
   "cell_type": "code",
   "execution_count": 203,
   "metadata": {},
   "outputs": [
    {
     "data": {
      "text/plain": [
       "10k           46\n",
       "20k           49\n",
       "25k          198\n",
       "30k           36\n",
       "35k           30\n",
       "40k           38\n",
       "5k            48\n",
       "age            0\n",
       "bib            0\n",
       "city           0\n",
       "country        0\n",
       "division       0\n",
       "gender         0\n",
       "genderdiv      0\n",
       "half          66\n",
       "name           0\n",
       "official       0\n",
       "overall        0\n",
       "pace           0\n",
       "state          0\n",
       "dtype: int64"
      ]
     },
     "execution_count": 203,
     "metadata": {},
     "output_type": "execute_result"
    }
   ],
   "source": [
    "df[df == '-'].count()"
   ]
  },
  {
   "cell_type": "code",
   "execution_count": 204,
   "metadata": {},
   "outputs": [],
   "source": [
    "df=df.replace(\"-\", \"0\")"
   ]
  },
  {
   "cell_type": "code",
   "execution_count": 205,
   "metadata": {},
   "outputs": [],
   "source": [
    "df = df.astype({'5k': 'float'})\n",
    "df = df.astype({'10k': 'float'})\n",
    "df = df.astype({'20k': 'float'})\n",
    "df = df.astype({'25k': 'float'})\n",
    "df = df.astype({'30k': 'float'})\n",
    "df = df.astype({'35k': 'float'})\n",
    "df = df.astype({'40k': 'float'})\n",
    "df = df.astype({'half': 'float'})\n",
    "df = df.astype({'overall': 'float'})"
   ]
  },
  {
   "cell_type": "markdown",
   "metadata": {},
   "source": [
    "There are many columns with time being "
   ]
  },
  {
   "cell_type": "code",
   "execution_count": 206,
   "metadata": {},
   "outputs": [],
   "source": [
    "numeric_features = df.drop(columns=[\"bib\", \"city\", \"division\", \"country\",\"gender\", \"genderdiv\", \"name\", \"state\"])"
   ]
  },
  {
   "cell_type": "code",
   "execution_count": 207,
   "metadata": {},
   "outputs": [
    {
     "data": {
      "text/html": [
       "<div>\n",
       "<style scoped>\n",
       "    .dataframe tbody tr th:only-of-type {\n",
       "        vertical-align: middle;\n",
       "    }\n",
       "\n",
       "    .dataframe tbody tr th {\n",
       "        vertical-align: top;\n",
       "    }\n",
       "\n",
       "    .dataframe thead th {\n",
       "        text-align: right;\n",
       "    }\n",
       "</style>\n",
       "<table border=\"1\" class=\"dataframe\">\n",
       "  <thead>\n",
       "    <tr style=\"text-align: right;\">\n",
       "      <th></th>\n",
       "      <th>10k</th>\n",
       "      <th>20k</th>\n",
       "      <th>25k</th>\n",
       "      <th>30k</th>\n",
       "      <th>35k</th>\n",
       "      <th>40k</th>\n",
       "      <th>5k</th>\n",
       "      <th>age</th>\n",
       "      <th>half</th>\n",
       "      <th>official</th>\n",
       "      <th>overall</th>\n",
       "      <th>pace</th>\n",
       "    </tr>\n",
       "  </thead>\n",
       "  <tbody>\n",
       "    <tr>\n",
       "      <th>count</th>\n",
       "      <td>29408.000000</td>\n",
       "      <td>29408.000000</td>\n",
       "      <td>29408.000000</td>\n",
       "      <td>29408.000000</td>\n",
       "      <td>29408.000000</td>\n",
       "      <td>29408.000000</td>\n",
       "      <td>29408.000000</td>\n",
       "      <td>29408.000000</td>\n",
       "      <td>29408.000000</td>\n",
       "      <td>29408.000000</td>\n",
       "      <td>29408.000000</td>\n",
       "      <td>29408.000000</td>\n",
       "    </tr>\n",
       "    <tr>\n",
       "      <th>mean</th>\n",
       "      <td>51.916179</td>\n",
       "      <td>105.940010</td>\n",
       "      <td>133.238622</td>\n",
       "      <td>165.000312</td>\n",
       "      <td>197.397862</td>\n",
       "      <td>229.546904</td>\n",
       "      <td>25.814377</td>\n",
       "      <td>42.075116</td>\n",
       "      <td>111.841702</td>\n",
       "      <td>243.867369</td>\n",
       "      <td>16087.288697</td>\n",
       "      <td>9.308791</td>\n",
       "    </tr>\n",
       "    <tr>\n",
       "      <th>std</th>\n",
       "      <td>9.186215</td>\n",
       "      <td>20.250705</td>\n",
       "      <td>27.823100</td>\n",
       "      <td>34.489793</td>\n",
       "      <td>42.518805</td>\n",
       "      <td>49.886721</td>\n",
       "      <td>4.441407</td>\n",
       "      <td>11.359969</td>\n",
       "      <td>21.720432</td>\n",
       "      <td>52.385368</td>\n",
       "      <td>9219.059556</td>\n",
       "      <td>1.995554</td>\n",
       "    </tr>\n",
       "    <tr>\n",
       "      <th>min</th>\n",
       "      <td>0.000000</td>\n",
       "      <td>0.000000</td>\n",
       "      <td>0.000000</td>\n",
       "      <td>0.000000</td>\n",
       "      <td>0.000000</td>\n",
       "      <td>0.000000</td>\n",
       "      <td>0.000000</td>\n",
       "      <td>18.000000</td>\n",
       "      <td>0.000000</td>\n",
       "      <td>84.820000</td>\n",
       "      <td>1.000000</td>\n",
       "      <td>3.250000</td>\n",
       "    </tr>\n",
       "    <tr>\n",
       "      <th>25%</th>\n",
       "      <td>45.600000</td>\n",
       "      <td>92.100000</td>\n",
       "      <td>115.650000</td>\n",
       "      <td>141.130000</td>\n",
       "      <td>167.650000</td>\n",
       "      <td>194.377500</td>\n",
       "      <td>22.750000</td>\n",
       "      <td>33.000000</td>\n",
       "      <td>97.170000</td>\n",
       "      <td>206.230000</td>\n",
       "      <td>8138.750000</td>\n",
       "      <td>7.870000</td>\n",
       "    </tr>\n",
       "    <tr>\n",
       "      <th>50%</th>\n",
       "      <td>50.480000</td>\n",
       "      <td>102.450000</td>\n",
       "      <td>129.070000</td>\n",
       "      <td>158.200000</td>\n",
       "      <td>188.650000</td>\n",
       "      <td>219.450000</td>\n",
       "      <td>25.180000</td>\n",
       "      <td>42.000000</td>\n",
       "      <td>108.125000</td>\n",
       "      <td>233.100000</td>\n",
       "      <td>16113.500000</td>\n",
       "      <td>8.900000</td>\n",
       "    </tr>\n",
       "    <tr>\n",
       "      <th>75%</th>\n",
       "      <td>57.355000</td>\n",
       "      <td>116.972500</td>\n",
       "      <td>148.280000</td>\n",
       "      <td>183.830000</td>\n",
       "      <td>221.080000</td>\n",
       "      <td>258.530000</td>\n",
       "      <td>28.570000</td>\n",
       "      <td>50.000000</td>\n",
       "      <td>123.580000</td>\n",
       "      <td>274.470000</td>\n",
       "      <td>24090.250000</td>\n",
       "      <td>10.480000</td>\n",
       "    </tr>\n",
       "    <tr>\n",
       "      <th>max</th>\n",
       "      <td>112.380000</td>\n",
       "      <td>224.350000</td>\n",
       "      <td>289.020000</td>\n",
       "      <td>376.380000</td>\n",
       "      <td>449.330000</td>\n",
       "      <td>508.350000</td>\n",
       "      <td>86.950000</td>\n",
       "      <td>81.000000</td>\n",
       "      <td>236.670000</td>\n",
       "      <td>538.880000</td>\n",
       "      <td>31931.000000</td>\n",
       "      <td>20.570000</td>\n",
       "    </tr>\n",
       "  </tbody>\n",
       "</table>\n",
       "</div>"
      ],
      "text/plain": [
       "                10k           20k           25k           30k           35k  \\\n",
       "count  29408.000000  29408.000000  29408.000000  29408.000000  29408.000000   \n",
       "mean      51.916179    105.940010    133.238622    165.000312    197.397862   \n",
       "std        9.186215     20.250705     27.823100     34.489793     42.518805   \n",
       "min        0.000000      0.000000      0.000000      0.000000      0.000000   \n",
       "25%       45.600000     92.100000    115.650000    141.130000    167.650000   \n",
       "50%       50.480000    102.450000    129.070000    158.200000    188.650000   \n",
       "75%       57.355000    116.972500    148.280000    183.830000    221.080000   \n",
       "max      112.380000    224.350000    289.020000    376.380000    449.330000   \n",
       "\n",
       "                40k            5k           age          half      official  \\\n",
       "count  29408.000000  29408.000000  29408.000000  29408.000000  29408.000000   \n",
       "mean     229.546904     25.814377     42.075116    111.841702    243.867369   \n",
       "std       49.886721      4.441407     11.359969     21.720432     52.385368   \n",
       "min        0.000000      0.000000     18.000000      0.000000     84.820000   \n",
       "25%      194.377500     22.750000     33.000000     97.170000    206.230000   \n",
       "50%      219.450000     25.180000     42.000000    108.125000    233.100000   \n",
       "75%      258.530000     28.570000     50.000000    123.580000    274.470000   \n",
       "max      508.350000     86.950000     81.000000    236.670000    538.880000   \n",
       "\n",
       "            overall          pace  \n",
       "count  29408.000000  29408.000000  \n",
       "mean   16087.288697      9.308791  \n",
       "std     9219.059556      1.995554  \n",
       "min        1.000000      3.250000  \n",
       "25%     8138.750000      7.870000  \n",
       "50%    16113.500000      8.900000  \n",
       "75%    24090.250000     10.480000  \n",
       "max    31931.000000     20.570000  "
      ]
     },
     "execution_count": 207,
     "metadata": {},
     "output_type": "execute_result"
    }
   ],
   "source": [
    "numeric_features.describe()"
   ]
  },
  {
   "cell_type": "markdown",
   "metadata": {},
   "source": [
    "# Data Analysis"
   ]
  },
  {
   "cell_type": "code",
   "execution_count": 208,
   "metadata": {},
   "outputs": [
    {
     "data": {
      "image/png": "[encoded data removed]",
      "text/plain": [
       "<Figure size 1440x1080 with 12 Axes>"
      ]
     },
     "metadata": {
      "needs_background": "light"
     },
     "output_type": "display_data"
    }
   ],
   "source": [
    "f, axes = plt.subplots(4, 3, figsize=(20,15), sharex=False)\n",
    "index = 0;\n",
    "for i in range(4):\n",
    "    for j in range(3):\n",
    "        if index < 12:\n",
    "            sns.distplot(numeric_features.values[:,index], hist=True, color=\"red\", ax=axes[i,j]).set_title(numeric_features.columns[index])\n",
    "            index = index+1"
   ]
  },
  {
   "cell_type": "markdown",
   "metadata": {},
   "source": [
    "Most of the columns follow a skewed normal distribution. The distribution of age looks similar to a normal distribution but with very harsh spikes in between."
   ]
  },
  {
   "cell_type": "markdown",
   "metadata": {},
   "source": [
    "# Training and applying model"
   ]
  },
  {
   "cell_type": "code",
   "execution_count": 209,
   "metadata": {},
   "outputs": [],
   "source": [
    "from sklearn.preprocessing import StandardScaler\n",
    "scaler = StandardScaler()\n",
    "features_scaled = scaler.fit_transform(numeric_features)"
   ]
  },
  {
   "cell_type": "code",
   "execution_count": 210,
   "metadata": {},
   "outputs": [],
   "source": [
    "from sklearn.cluster import KMeans\n",
    "kmeans = KMeans(init=\"random\", n_clusters=3, n_init=10, max_iter=300, random_state=42)"
   ]
  },
  {
   "cell_type": "markdown",
   "metadata": {},
   "source": [
    "Scaling the numeric features and fitting it to a KMeans model."
   ]
  },
  {
   "cell_type": "code",
   "execution_count": 211,
   "metadata": {},
   "outputs": [
    {
     "data": {
      "text/plain": [
       "KMeans(algorithm='auto', copy_x=True, init='random', max_iter=300, n_clusters=3,\n",
       "       n_init=10, n_jobs=None, precompute_distances='auto', random_state=42,\n",
       "       tol=0.0001, verbose=0)"
      ]
     },
     "execution_count": 211,
     "metadata": {},
     "output_type": "execute_result"
    }
   ],
   "source": [
    "kmeans.fit(features_scaled)"
   ]
  },
  {
   "cell_type": "code",
   "execution_count": 212,
   "metadata": {},
   "outputs": [
    {
     "data": {
      "text/plain": [
       "104774.3533467112"
      ]
     },
     "execution_count": 212,
     "metadata": {},
     "output_type": "execute_result"
    }
   ],
   "source": [
    "kmeans.inertia_"
   ]
  },
  {
   "cell_type": "code",
   "execution_count": 213,
   "metadata": {},
   "outputs": [
    {
     "data": {
      "text/plain": [
       "array([[-0.85368401, -0.84683343, -0.77520666, -0.84694403, -0.8511531 ,\n",
       "        -0.84767784, -0.84917123, -0.2911227 , -0.84197187, -0.86120129,\n",
       "        -0.99573353, -0.86196008],\n",
       "       [ 1.47286124,  1.53009106,  1.33643632,  1.58321312,  1.58872269,\n",
       "         1.5471575 ,  1.42676648,  0.00340774,  1.52801155,  1.5810137 ,\n",
       "         1.37302304,  1.58179063],\n",
       "       [ 0.17269174,  0.13684155,  0.15732963,  0.11044443,  0.11217052,\n",
       "         0.12922118,  0.1908999 ,  0.30788968,  0.13270953,  0.12670391,\n",
       "         0.37358453,  0.12712305]])"
      ]
     },
     "execution_count": 213,
     "metadata": {},
     "output_type": "execute_result"
    }
   ],
   "source": [
    "kmeans.cluster_centers_"
   ]
  },
  {
   "cell_type": "code",
   "execution_count": 214,
   "metadata": {},
   "outputs": [],
   "source": [
    "df['labels'] = kmeans.labels_"
   ]
  },
  {
   "cell_type": "code",
   "execution_count": 215,
   "metadata": {},
   "outputs": [
    {
     "data": {
      "text/html": [
       "<div>\n",
       "<style scoped>\n",
       "    .dataframe tbody tr th:only-of-type {\n",
       "        vertical-align: middle;\n",
       "    }\n",
       "\n",
       "    .dataframe tbody tr th {\n",
       "        vertical-align: top;\n",
       "    }\n",
       "\n",
       "    .dataframe thead th {\n",
       "        text-align: right;\n",
       "    }\n",
       "</style>\n",
       "<table border=\"1\" class=\"dataframe\">\n",
       "  <thead>\n",
       "    <tr style=\"text-align: right;\">\n",
       "      <th></th>\n",
       "      <th>10k</th>\n",
       "      <th>20k</th>\n",
       "      <th>25k</th>\n",
       "      <th>30k</th>\n",
       "      <th>35k</th>\n",
       "      <th>40k</th>\n",
       "      <th>5k</th>\n",
       "      <th>age</th>\n",
       "      <th>bib</th>\n",
       "      <th>city</th>\n",
       "      <th>...</th>\n",
       "      <th>division</th>\n",
       "      <th>gender</th>\n",
       "      <th>genderdiv</th>\n",
       "      <th>half</th>\n",
       "      <th>name</th>\n",
       "      <th>official</th>\n",
       "      <th>overall</th>\n",
       "      <th>pace</th>\n",
       "      <th>state</th>\n",
       "      <th>labels</th>\n",
       "    </tr>\n",
       "  </thead>\n",
       "  <tbody>\n",
       "    <tr>\n",
       "      <th>9</th>\n",
       "      <td>30.48</td>\n",
       "      <td>61.78</td>\n",
       "      <td>77.68</td>\n",
       "      <td>94.78</td>\n",
       "      <td>112.27</td>\n",
       "      <td>129.83</td>\n",
       "      <td>15.15</td>\n",
       "      <td>31</td>\n",
       "      <td>6</td>\n",
       "      <td>Redding</td>\n",
       "      <td>...</td>\n",
       "      <td>20</td>\n",
       "      <td>M</td>\n",
       "      <td>20</td>\n",
       "      <td>65.23</td>\n",
       "      <td>Hall, Ryan</td>\n",
       "      <td>137.83</td>\n",
       "      <td>20.0</td>\n",
       "      <td>5.27</td>\n",
       "      <td>CA</td>\n",
       "      <td>0</td>\n",
       "    </tr>\n",
       "    <tr>\n",
       "      <th>14</th>\n",
       "      <td>17.12</td>\n",
       "      <td>38.02</td>\n",
       "      <td>48.88</td>\n",
       "      <td>60.82</td>\n",
       "      <td>72.83</td>\n",
       "      <td>82.38</td>\n",
       "      <td>8.02</td>\n",
       "      <td>29</td>\n",
       "      <td>W8</td>\n",
       "      <td>Port Elgin</td>\n",
       "      <td>...</td>\n",
       "      <td>13</td>\n",
       "      <td>M</td>\n",
       "      <td>13</td>\n",
       "      <td>40.20</td>\n",
       "      <td>Cassidy, Josh R.</td>\n",
       "      <td>87.40</td>\n",
       "      <td>13.0</td>\n",
       "      <td>3.35</td>\n",
       "      <td>ON</td>\n",
       "      <td>0</td>\n",
       "    </tr>\n",
       "    <tr>\n",
       "      <th>15</th>\n",
       "      <td>33.93</td>\n",
       "      <td>67.92</td>\n",
       "      <td>85.03</td>\n",
       "      <td>102.40</td>\n",
       "      <td>119.68</td>\n",
       "      <td>136.47</td>\n",
       "      <td>16.92</td>\n",
       "      <td>30</td>\n",
       "      <td>F8</td>\n",
       "      <td>Rochester Hills</td>\n",
       "      <td>...</td>\n",
       "      <td>10</td>\n",
       "      <td>F</td>\n",
       "      <td>10</td>\n",
       "      <td>71.68</td>\n",
       "      <td>Linden, Desiree</td>\n",
       "      <td>143.90</td>\n",
       "      <td>46.0</td>\n",
       "      <td>5.50</td>\n",
       "      <td>MI</td>\n",
       "      <td>0</td>\n",
       "    </tr>\n",
       "    <tr>\n",
       "      <th>24</th>\n",
       "      <td>18.30</td>\n",
       "      <td>39.63</td>\n",
       "      <td>50.33</td>\n",
       "      <td>62.33</td>\n",
       "      <td>74.95</td>\n",
       "      <td>84.48</td>\n",
       "      <td>8.67</td>\n",
       "      <td>47</td>\n",
       "      <td>W13</td>\n",
       "      <td>St-Jean Baptiste</td>\n",
       "      <td>...</td>\n",
       "      <td>14</td>\n",
       "      <td>M</td>\n",
       "      <td>14</td>\n",
       "      <td>41.80</td>\n",
       "      <td>Filteau, Michel</td>\n",
       "      <td>89.40</td>\n",
       "      <td>14.0</td>\n",
       "      <td>3.42</td>\n",
       "      <td>QC</td>\n",
       "      <td>0</td>\n",
       "    </tr>\n",
       "    <tr>\n",
       "      <th>27</th>\n",
       "      <td>18.78</td>\n",
       "      <td>39.65</td>\n",
       "      <td>50.33</td>\n",
       "      <td>62.72</td>\n",
       "      <td>75.02</td>\n",
       "      <td>84.75</td>\n",
       "      <td>8.98</td>\n",
       "      <td>30</td>\n",
       "      <td>W14</td>\n",
       "      <td>Champaign</td>\n",
       "      <td>...</td>\n",
       "      <td>15</td>\n",
       "      <td>M</td>\n",
       "      <td>15</td>\n",
       "      <td>41.82</td>\n",
       "      <td>Kim, Gyu Dae</td>\n",
       "      <td>89.52</td>\n",
       "      <td>15.0</td>\n",
       "      <td>3.42</td>\n",
       "      <td>IL</td>\n",
       "      <td>0</td>\n",
       "    </tr>\n",
       "    <tr>\n",
       "      <th>...</th>\n",
       "      <td>...</td>\n",
       "      <td>...</td>\n",
       "      <td>...</td>\n",
       "      <td>...</td>\n",
       "      <td>...</td>\n",
       "      <td>...</td>\n",
       "      <td>...</td>\n",
       "      <td>...</td>\n",
       "      <td>...</td>\n",
       "      <td>...</td>\n",
       "      <td>...</td>\n",
       "      <td>...</td>\n",
       "      <td>...</td>\n",
       "      <td>...</td>\n",
       "      <td>...</td>\n",
       "      <td>...</td>\n",
       "      <td>...</td>\n",
       "      <td>...</td>\n",
       "      <td>...</td>\n",
       "      <td>...</td>\n",
       "      <td>...</td>\n",
       "    </tr>\n",
       "    <tr>\n",
       "      <th>31979</th>\n",
       "      <td>50.72</td>\n",
       "      <td>99.55</td>\n",
       "      <td>124.02</td>\n",
       "      <td>148.65</td>\n",
       "      <td>174.90</td>\n",
       "      <td>200.22</td>\n",
       "      <td>26.13</td>\n",
       "      <td>32</td>\n",
       "      <td>35908</td>\n",
       "      <td>Larkspur</td>\n",
       "      <td>...</td>\n",
       "      <td>3414</td>\n",
       "      <td>M</td>\n",
       "      <td>7500</td>\n",
       "      <td>104.78</td>\n",
       "      <td>Anderson, Steve K.</td>\n",
       "      <td>211.75</td>\n",
       "      <td>9849.0</td>\n",
       "      <td>8.08</td>\n",
       "      <td>CA</td>\n",
       "      <td>0</td>\n",
       "    </tr>\n",
       "    <tr>\n",
       "      <th>31980</th>\n",
       "      <td>61.28</td>\n",
       "      <td>128.37</td>\n",
       "      <td>165.02</td>\n",
       "      <td>203.43</td>\n",
       "      <td>244.70</td>\n",
       "      <td>285.47</td>\n",
       "      <td>31.07</td>\n",
       "      <td>34</td>\n",
       "      <td>35909</td>\n",
       "      <td>Norwell</td>\n",
       "      <td>...</td>\n",
       "      <td>5212</td>\n",
       "      <td>M</td>\n",
       "      <td>15459</td>\n",
       "      <td>135.85</td>\n",
       "      <td>McCarthy, Michael P.</td>\n",
       "      <td>302.52</td>\n",
       "      <td>27456.0</td>\n",
       "      <td>11.55</td>\n",
       "      <td>MA</td>\n",
       "      <td>1</td>\n",
       "    </tr>\n",
       "    <tr>\n",
       "      <th>31981</th>\n",
       "      <td>59.00</td>\n",
       "      <td>123.33</td>\n",
       "      <td>157.02</td>\n",
       "      <td>192.65</td>\n",
       "      <td>229.62</td>\n",
       "      <td>266.30</td>\n",
       "      <td>28.18</td>\n",
       "      <td>21</td>\n",
       "      <td>35910</td>\n",
       "      <td>West Simsbury</td>\n",
       "      <td>...</td>\n",
       "      <td>5231</td>\n",
       "      <td>F</td>\n",
       "      <td>10788</td>\n",
       "      <td>130.57</td>\n",
       "      <td>Brimmer, Delia C.</td>\n",
       "      <td>282.00</td>\n",
       "      <td>25092.0</td>\n",
       "      <td>10.77</td>\n",
       "      <td>CT</td>\n",
       "      <td>2</td>\n",
       "    </tr>\n",
       "    <tr>\n",
       "      <th>31982</th>\n",
       "      <td>63.75</td>\n",
       "      <td>129.90</td>\n",
       "      <td>167.82</td>\n",
       "      <td>207.52</td>\n",
       "      <td>247.18</td>\n",
       "      <td>285.87</td>\n",
       "      <td>30.98</td>\n",
       "      <td>38</td>\n",
       "      <td>35911</td>\n",
       "      <td>North Andover</td>\n",
       "      <td>...</td>\n",
       "      <td>5800</td>\n",
       "      <td>F</td>\n",
       "      <td>12009</td>\n",
       "      <td>137.03</td>\n",
       "      <td>Morganthal, Amy</td>\n",
       "      <td>302.73</td>\n",
       "      <td>27476.0</td>\n",
       "      <td>11.55</td>\n",
       "      <td>MA</td>\n",
       "      <td>1</td>\n",
       "    </tr>\n",
       "    <tr>\n",
       "      <th>31983</th>\n",
       "      <td>53.63</td>\n",
       "      <td>108.03</td>\n",
       "      <td>135.02</td>\n",
       "      <td>161.83</td>\n",
       "      <td>189.68</td>\n",
       "      <td>216.48</td>\n",
       "      <td>26.92</td>\n",
       "      <td>54</td>\n",
       "      <td>35912</td>\n",
       "      <td>Lancaster</td>\n",
       "      <td>...</td>\n",
       "      <td>1396</td>\n",
       "      <td>M</td>\n",
       "      <td>9771</td>\n",
       "      <td>114.13</td>\n",
       "      <td>Kirchner, Jeffrey T.</td>\n",
       "      <td>228.30</td>\n",
       "      <td>14844.0</td>\n",
       "      <td>8.72</td>\n",
       "      <td>PA</td>\n",
       "      <td>2</td>\n",
       "    </tr>\n",
       "  </tbody>\n",
       "</table>\n",
       "<p>29408 rows × 21 columns</p>\n",
       "</div>"
      ],
      "text/plain": [
       "         10k     20k     25k     30k     35k     40k     5k  age    bib  \\\n",
       "9      30.48   61.78   77.68   94.78  112.27  129.83  15.15   31      6   \n",
       "14     17.12   38.02   48.88   60.82   72.83   82.38   8.02   29     W8   \n",
       "15     33.93   67.92   85.03  102.40  119.68  136.47  16.92   30     F8   \n",
       "24     18.30   39.63   50.33   62.33   74.95   84.48   8.67   47    W13   \n",
       "27     18.78   39.65   50.33   62.72   75.02   84.75   8.98   30    W14   \n",
       "...      ...     ...     ...     ...     ...     ...    ...  ...    ...   \n",
       "31979  50.72   99.55  124.02  148.65  174.90  200.22  26.13   32  35908   \n",
       "31980  61.28  128.37  165.02  203.43  244.70  285.47  31.07   34  35909   \n",
       "31981  59.00  123.33  157.02  192.65  229.62  266.30  28.18   21  35910   \n",
       "31982  63.75  129.90  167.82  207.52  247.18  285.87  30.98   38  35911   \n",
       "31983  53.63  108.03  135.02  161.83  189.68  216.48  26.92   54  35912   \n",
       "\n",
       "                   city  ... division  gender genderdiv    half  \\\n",
       "9               Redding  ...       20       M        20   65.23   \n",
       "14           Port Elgin  ...       13       M        13   40.20   \n",
       "15      Rochester Hills  ...       10       F        10   71.68   \n",
       "24     St-Jean Baptiste  ...       14       M        14   41.80   \n",
       "27            Champaign  ...       15       M        15   41.82   \n",
       "...                 ...  ...      ...     ...       ...     ...   \n",
       "31979          Larkspur  ...     3414       M      7500  104.78   \n",
       "31980           Norwell  ...     5212       M     15459  135.85   \n",
       "31981     West Simsbury  ...     5231       F     10788  130.57   \n",
       "31982     North Andover  ...     5800       F     12009  137.03   \n",
       "31983         Lancaster  ...     1396       M      9771  114.13   \n",
       "\n",
       "                       name official  overall   pace  state labels  \n",
       "9                Hall, Ryan   137.83     20.0   5.27     CA      0  \n",
       "14         Cassidy, Josh R.    87.40     13.0   3.35     ON      0  \n",
       "15          Linden, Desiree   143.90     46.0   5.50     MI      0  \n",
       "24          Filteau, Michel    89.40     14.0   3.42     QC      0  \n",
       "27             Kim, Gyu Dae    89.52     15.0   3.42     IL      0  \n",
       "...                     ...      ...      ...    ...    ...    ...  \n",
       "31979    Anderson, Steve K.   211.75   9849.0   8.08     CA      0  \n",
       "31980  McCarthy, Michael P.   302.52  27456.0  11.55     MA      1  \n",
       "31981     Brimmer, Delia C.   282.00  25092.0  10.77     CT      2  \n",
       "31982       Morganthal, Amy   302.73  27476.0  11.55     MA      1  \n",
       "31983  Kirchner, Jeffrey T.   228.30  14844.0   8.72     PA      2  \n",
       "\n",
       "[29408 rows x 21 columns]"
      ]
     },
     "execution_count": 215,
     "metadata": {},
     "output_type": "execute_result"
    }
   ],
   "source": [
    "df"
   ]
  },
  {
   "cell_type": "code",
   "execution_count": 216,
   "metadata": {},
   "outputs": [],
   "source": [
    "df_grouped = df.groupby(by=['gender', 'labels']).count()"
   ]
  },
  {
   "cell_type": "markdown",
   "metadata": {},
   "source": [
    "Grouping the labelled data by gender."
   ]
  },
  {
   "cell_type": "code",
   "execution_count": 217,
   "metadata": {},
   "outputs": [
    {
     "data": {
      "text/html": [
       "<div>\n",
       "<style scoped>\n",
       "    .dataframe tbody tr th:only-of-type {\n",
       "        vertical-align: middle;\n",
       "    }\n",
       "\n",
       "    .dataframe tbody tr th {\n",
       "        vertical-align: top;\n",
       "    }\n",
       "\n",
       "    .dataframe thead th {\n",
       "        text-align: right;\n",
       "    }\n",
       "</style>\n",
       "<table border=\"1\" class=\"dataframe\">\n",
       "  <thead>\n",
       "    <tr style=\"text-align: right;\">\n",
       "      <th></th>\n",
       "      <th></th>\n",
       "      <th>10k</th>\n",
       "      <th>20k</th>\n",
       "      <th>25k</th>\n",
       "      <th>30k</th>\n",
       "      <th>35k</th>\n",
       "      <th>40k</th>\n",
       "      <th>5k</th>\n",
       "      <th>age</th>\n",
       "      <th>bib</th>\n",
       "      <th>city</th>\n",
       "      <th>country</th>\n",
       "      <th>division</th>\n",
       "      <th>genderdiv</th>\n",
       "      <th>half</th>\n",
       "      <th>name</th>\n",
       "      <th>official</th>\n",
       "      <th>overall</th>\n",
       "      <th>pace</th>\n",
       "      <th>state</th>\n",
       "    </tr>\n",
       "    <tr>\n",
       "      <th>gender</th>\n",
       "      <th>labels</th>\n",
       "      <th></th>\n",
       "      <th></th>\n",
       "      <th></th>\n",
       "      <th></th>\n",
       "      <th></th>\n",
       "      <th></th>\n",
       "      <th></th>\n",
       "      <th></th>\n",
       "      <th></th>\n",
       "      <th></th>\n",
       "      <th></th>\n",
       "      <th></th>\n",
       "      <th></th>\n",
       "      <th></th>\n",
       "      <th></th>\n",
       "      <th></th>\n",
       "      <th></th>\n",
       "      <th></th>\n",
       "      <th></th>\n",
       "    </tr>\n",
       "  </thead>\n",
       "  <tbody>\n",
       "    <tr>\n",
       "      <th rowspan=\"3\" valign=\"top\">F</th>\n",
       "      <th>0</th>\n",
       "      <td>3943</td>\n",
       "      <td>3943</td>\n",
       "      <td>3943</td>\n",
       "      <td>3943</td>\n",
       "      <td>3943</td>\n",
       "      <td>3943</td>\n",
       "      <td>3943</td>\n",
       "      <td>3943</td>\n",
       "      <td>3943</td>\n",
       "      <td>3943</td>\n",
       "      <td>3943</td>\n",
       "      <td>3943</td>\n",
       "      <td>3943</td>\n",
       "      <td>3943</td>\n",
       "      <td>3943</td>\n",
       "      <td>3943</td>\n",
       "      <td>3943</td>\n",
       "      <td>3943</td>\n",
       "      <td>3943</td>\n",
       "    </tr>\n",
       "    <tr>\n",
       "      <th>1</th>\n",
       "      <td>3208</td>\n",
       "      <td>3208</td>\n",
       "      <td>3208</td>\n",
       "      <td>3208</td>\n",
       "      <td>3208</td>\n",
       "      <td>3208</td>\n",
       "      <td>3208</td>\n",
       "      <td>3208</td>\n",
       "      <td>3208</td>\n",
       "      <td>3208</td>\n",
       "      <td>3208</td>\n",
       "      <td>3208</td>\n",
       "      <td>3208</td>\n",
       "      <td>3208</td>\n",
       "      <td>3208</td>\n",
       "      <td>3208</td>\n",
       "      <td>3208</td>\n",
       "      <td>3208</td>\n",
       "      <td>3208</td>\n",
       "    </tr>\n",
       "    <tr>\n",
       "      <th>2</th>\n",
       "      <td>6566</td>\n",
       "      <td>6566</td>\n",
       "      <td>6566</td>\n",
       "      <td>6566</td>\n",
       "      <td>6566</td>\n",
       "      <td>6566</td>\n",
       "      <td>6566</td>\n",
       "      <td>6566</td>\n",
       "      <td>6566</td>\n",
       "      <td>6566</td>\n",
       "      <td>6566</td>\n",
       "      <td>6566</td>\n",
       "      <td>6566</td>\n",
       "      <td>6566</td>\n",
       "      <td>6566</td>\n",
       "      <td>6566</td>\n",
       "      <td>6566</td>\n",
       "      <td>6566</td>\n",
       "      <td>6566</td>\n",
       "    </tr>\n",
       "    <tr>\n",
       "      <th rowspan=\"3\" valign=\"top\">M</th>\n",
       "      <th>0</th>\n",
       "      <td>8244</td>\n",
       "      <td>8244</td>\n",
       "      <td>8244</td>\n",
       "      <td>8244</td>\n",
       "      <td>8244</td>\n",
       "      <td>8244</td>\n",
       "      <td>8244</td>\n",
       "      <td>8244</td>\n",
       "      <td>8244</td>\n",
       "      <td>8244</td>\n",
       "      <td>8244</td>\n",
       "      <td>8244</td>\n",
       "      <td>8244</td>\n",
       "      <td>8244</td>\n",
       "      <td>8244</td>\n",
       "      <td>8244</td>\n",
       "      <td>8244</td>\n",
       "      <td>8244</td>\n",
       "      <td>8244</td>\n",
       "    </tr>\n",
       "    <tr>\n",
       "      <th>1</th>\n",
       "      <td>2528</td>\n",
       "      <td>2528</td>\n",
       "      <td>2528</td>\n",
       "      <td>2528</td>\n",
       "      <td>2528</td>\n",
       "      <td>2528</td>\n",
       "      <td>2528</td>\n",
       "      <td>2528</td>\n",
       "      <td>2528</td>\n",
       "      <td>2528</td>\n",
       "      <td>2528</td>\n",
       "      <td>2528</td>\n",
       "      <td>2528</td>\n",
       "      <td>2528</td>\n",
       "      <td>2528</td>\n",
       "      <td>2528</td>\n",
       "      <td>2528</td>\n",
       "      <td>2528</td>\n",
       "      <td>2528</td>\n",
       "    </tr>\n",
       "    <tr>\n",
       "      <th>2</th>\n",
       "      <td>4919</td>\n",
       "      <td>4919</td>\n",
       "      <td>4919</td>\n",
       "      <td>4919</td>\n",
       "      <td>4919</td>\n",
       "      <td>4919</td>\n",
       "      <td>4919</td>\n",
       "      <td>4919</td>\n",
       "      <td>4919</td>\n",
       "      <td>4919</td>\n",
       "      <td>4919</td>\n",
       "      <td>4919</td>\n",
       "      <td>4919</td>\n",
       "      <td>4919</td>\n",
       "      <td>4919</td>\n",
       "      <td>4919</td>\n",
       "      <td>4919</td>\n",
       "      <td>4919</td>\n",
       "      <td>4919</td>\n",
       "    </tr>\n",
       "  </tbody>\n",
       "</table>\n",
       "</div>"
      ],
      "text/plain": [
       "                10k   20k   25k   30k   35k   40k    5k   age   bib  city  \\\n",
       "gender labels                                                               \n",
       "F      0       3943  3943  3943  3943  3943  3943  3943  3943  3943  3943   \n",
       "       1       3208  3208  3208  3208  3208  3208  3208  3208  3208  3208   \n",
       "       2       6566  6566  6566  6566  6566  6566  6566  6566  6566  6566   \n",
       "M      0       8244  8244  8244  8244  8244  8244  8244  8244  8244  8244   \n",
       "       1       2528  2528  2528  2528  2528  2528  2528  2528  2528  2528   \n",
       "       2       4919  4919  4919  4919  4919  4919  4919  4919  4919  4919   \n",
       "\n",
       "               country  division  genderdiv  half  name  official  overall  \\\n",
       "gender labels                                                                \n",
       "F      0          3943      3943       3943  3943  3943      3943     3943   \n",
       "       1          3208      3208       3208  3208  3208      3208     3208   \n",
       "       2          6566      6566       6566  6566  6566      6566     6566   \n",
       "M      0          8244      8244       8244  8244  8244      8244     8244   \n",
       "       1          2528      2528       2528  2528  2528      2528     2528   \n",
       "       2          4919      4919       4919  4919  4919      4919     4919   \n",
       "\n",
       "               pace  state  \n",
       "gender labels               \n",
       "F      0       3943   3943  \n",
       "       1       3208   3208  \n",
       "       2       6566   6566  \n",
       "M      0       8244   8244  \n",
       "       1       2528   2528  \n",
       "       2       4919   4919  "
      ]
     },
     "execution_count": 217,
     "metadata": {},
     "output_type": "execute_result"
    }
   ],
   "source": [
    "df_grouped"
   ]
  },
  {
   "cell_type": "code",
   "execution_count": 218,
   "metadata": {},
   "outputs": [
    {
     "data": {
      "text/plain": [
       "[Text(0, 0, '0'), Text(0, 0, '1'), Text(0, 0, '2')]"
      ]
     },
     "execution_count": 218,
     "metadata": {},
     "output_type": "execute_result"
    },
    {
     "data": {
      "image/png": "[encoded data removed]",
      "text/plain": [
       "<Figure size 1152x576 with 1 Axes>"
      ]
     },
     "metadata": {
      "needs_background": "light"
     },
     "output_type": "display_data"
    }
   ],
   "source": [
    "fig, ax = plt.subplots(figsize=(16, 8))\n",
    "x = np.arange(len(df.labels.unique()))\n",
    "bar_width = 0.2\n",
    "b1 = ax.bar(x, df_grouped['10k']['M'],\n",
    "            width=bar_width, label='Male')\n",
    "b2 = ax.bar(x + bar_width, df_grouped['10k']['F'],\n",
    "            width=bar_width, label='Female')\n",
    "\n",
    "ax.set_xticks(x + bar_width/2)\n",
    "ax.legend()\n",
    "sorted_labels = sorted(df.labels.unique())\n",
    "ax.set_xticklabels(sorted_labels)"
   ]
  },
  {
   "cell_type": "markdown",
   "metadata": {},
   "source": [
    "Group 0 possesses a very large portion of males while the other two groups consists of more females."
   ]
  },
  {
   "cell_type": "code",
   "execution_count": 219,
   "metadata": {},
   "outputs": [
    {
     "data": {
      "text/plain": [
       "count    29408.000000\n",
       "mean        42.075116\n",
       "std         11.359969\n",
       "min         18.000000\n",
       "25%         33.000000\n",
       "50%         42.000000\n",
       "75%         50.000000\n",
       "max         81.000000\n",
       "Name: age, dtype: float64"
      ]
     },
     "execution_count": 219,
     "metadata": {},
     "output_type": "execute_result"
    }
   ],
   "source": [
    "df['age'].describe()"
   ]
  },
  {
   "cell_type": "code",
   "execution_count": 220,
   "metadata": {},
   "outputs": [],
   "source": [
    "df['age-group'] = pd.cut(df['age'], bins=[18,25,40,70,81], labels=['18-25', '26-40', '40-70', '> 70'])"
   ]
  },
  {
   "cell_type": "code",
   "execution_count": 221,
   "metadata": {},
   "outputs": [],
   "source": [
    "df_grouped = df.groupby(['age-group', 'labels']).count()"
   ]
  },
  {
   "cell_type": "code",
   "execution_count": 222,
   "metadata": {},
   "outputs": [
    {
     "data": {
      "text/plain": [
       "[Text(0, 0, '0'), Text(0, 0, '1'), Text(0, 0, '2')]"
      ]
     },
     "execution_count": 222,
     "metadata": {},
     "output_type": "execute_result"
    },
    {
     "data": {
      "image/png": "[encoded data removed]",
      "text/plain": [
       "<Figure size 1152x576 with 1 Axes>"
      ]
     },
     "metadata": {
      "needs_background": "light"
     },
     "output_type": "display_data"
    }
   ],
   "source": [
    "fig, ax = plt.subplots(figsize=(16, 8))\n",
    "x = np.arange(len(df.labels.unique()))\n",
    "bar_width = 0.2\n",
    "b1 = ax.bar(x, df_grouped['10k']['18-25'],\n",
    "            width=bar_width, label='18-25')\n",
    "b2 = ax.bar(x + bar_width, df_grouped['10k']['26-40'],\n",
    "            width=bar_width, label='26-40')\n",
    "b3 = ax.bar(x + 2*bar_width, df_grouped['10k']['40-70'],\n",
    "            width=bar_width, label='40-70')\n",
    "b4 = ax.bar(x + 3*bar_width, df_grouped['10k']['> 70'],\n",
    "            width=bar_width, label='>70')\n",
    "\n",
    "ax.set_xticks(x + bar_width)\n",
    "ax.legend()\n",
    "ax.set_xticklabels(sorted_labels)"
   ]
  },
  {
   "cell_type": "markdown",
   "metadata": {},
   "source": [
    "From this chart and the gender-based chart, it can be said that:\n",
    "- Most of group 0's population is in the 26-40 and 40-70 age group. This means that group 0 has mostly males in these age groups\n",
    "- Groups 1 and 2 are also largely dominated by the 26-40 and 40-70 age groups. Group 2 seems to have a large portion of females in the 40-70 age group."
   ]
  },
  {
   "cell_type": "code",
   "execution_count": 223,
   "metadata": {},
   "outputs": [
    {
     "data": {
      "text/plain": [
       "count    29408.000000\n",
       "mean       243.867369\n",
       "std         52.385368\n",
       "min         84.820000\n",
       "25%        206.230000\n",
       "50%        233.100000\n",
       "75%        274.470000\n",
       "max        538.880000\n",
       "Name: official, dtype: float64"
      ]
     },
     "execution_count": 223,
     "metadata": {},
     "output_type": "execute_result"
    }
   ],
   "source": [
    "df['official'].describe()"
   ]
  },
  {
   "cell_type": "code",
   "execution_count": 224,
   "metadata": {},
   "outputs": [],
   "source": [
    "df['time-group'] = pd.cut(df['official'], bins=[0,200,250,275,540], labels=['< 200', '200-250', '250-270', '> 275'])"
   ]
  },
  {
   "cell_type": "code",
   "execution_count": 225,
   "metadata": {},
   "outputs": [],
   "source": [
    "df_grouped = df.groupby(['time-group', 'labels']).count()"
   ]
  },
  {
   "cell_type": "code",
   "execution_count": 226,
   "metadata": {},
   "outputs": [
    {
     "data": {
      "text/plain": [
       "[Text(0, 0, '0'), Text(0, 0, '1'), Text(0, 0, '2')]"
      ]
     },
     "execution_count": 226,
     "metadata": {},
     "output_type": "execute_result"
    },
    {
     "data": {
      "image/png": "[encoded data removed]",
      "text/plain": [
       "<Figure size 1152x576 with 1 Axes>"
      ]
     },
     "metadata": {
      "needs_background": "light"
     },
     "output_type": "display_data"
    }
   ],
   "source": [
    "fig, ax = plt.subplots(figsize=(16, 8))\n",
    "x = np.arange(len(df.labels.unique()))\n",
    "bar_width = 0.2\n",
    "b1 = ax.bar(x, df_grouped['10k']['< 200'],\n",
    "            width=bar_width, label='< 200')\n",
    "b2 = ax.bar(x + bar_width, df_grouped['10k']['200-250'],\n",
    "            width=bar_width, label='200-250')\n",
    "b3 = ax.bar(x + 2*bar_width, df_grouped['10k']['250-270'],\n",
    "            width=bar_width, label='250-270')\n",
    "b4 = ax.bar(x + 3*bar_width, df_grouped['10k']['> 275'],\n",
    "            width=bar_width, label='> 275')\n",
    "\n",
    "ax.set_xticks(x + bar_width)\n",
    "ax.legend()\n",
    "ax.set_xticklabels(sorted_labels)"
   ]
  },
  {
   "cell_type": "markdown",
   "metadata": {},
   "source": [
    "Given that:\n",
    "- Group 0 has a lot of males in the 26-40 and 40-70 age groups\n",
    "- Groups 1 and 2 has more females than males\n",
    "\n",
    "Some notable points can be linked:\n",
    "- Group 0's finishing times are a lot shorter than the other two groups.\n",
    "- Group 1 mostly took more than 275 minutes\n",
    "- Group 2, with more females, take a lot longer to finish (200 minutes or above)"
   ]
  },
  {
   "cell_type": "code",
   "execution_count": null,
   "metadata": {},
   "outputs": [],
   "source": []
  }
 ],
 "metadata": {
  "kernelspec": {
   "display_name": "Python 3",
   "language": "python",
   "name": "python3"
  },
  "language_info": {
   "codemirror_mode": {
    "name": "ipython",
    "version": 3
   },
   "file_extension": ".py",
   "mimetype": "text/x-python",
   "name": "python",
   "nbconvert_exporter": "python",
   "pygments_lexer": "ipython3",
   "version": "3.7.6"
  }
 },
 "nbformat": 4,
 "nbformat_minor": 4
}
